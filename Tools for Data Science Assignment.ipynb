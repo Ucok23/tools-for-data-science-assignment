{
 "cells": [
  {
   "cell_type": "markdown",
   "id": "50298a02-cbc1-4711-bb54-894df1abc200",
   "metadata": {},
   "source": [
    "# My Jupyter Notebook on IBM Watson Studio"
   ]
  },
  {
   "cell_type": "markdown",
   "id": "afd54cf4-2258-4c6c-93ad-e4ece025db31",
   "metadata": {},
   "source": [
    "**Ucok Isa Lubis**<br>\n",
    "Freelance Data Science"
   ]
  },
  {
   "cell_type": "markdown",
   "id": "909c4f76-9a52-406e-8c82-b38793fc6820",
   "metadata": {},
   "source": [
    "*I am interested in data science becouse I like how it can be a good reasoning tools and problem solving tools*"
   ]
  },
  {
   "cell_type": "markdown",
   "id": "deedde9b-8b67-445a-aac5-fb218b268873",
   "metadata": {},
   "source": [
    "### Displaying star in every start of new line using loop"
   ]
  },
  {
   "cell_type": "code",
   "execution_count": 3,
   "id": "df03841a-1e64-49b9-9e97-30de4202c9b6",
   "metadata": {},
   "outputs": [
    {
     "name": "stdout",
     "output_type": "stream",
     "text": [
      "*\n",
      "*\n",
      "*\n"
     ]
    }
   ],
   "source": [
    "for i in range(3):\n",
    "    print('*')"
   ]
  },
  {
   "cell_type": "markdown",
   "id": "b8654f1a-d85b-4ff1-9d05-1f480deb1f06",
   "metadata": {},
   "source": [
    "Data science quotes:\n",
    "***\n",
    "> - “You can have data without information, but you cannot have information without data.” – By Daniel Keys Moran\n",
    "***"
   ]
  },
  {
   "cell_type": "code",
   "execution_count": null,
   "id": "b8f2649c-b937-4064-81e8-cf4744a63fdf",
   "metadata": {},
   "outputs": [],
   "source": []
  }
 ],
 "metadata": {
  "kernelspec": {
   "display_name": "Python 3",
   "language": "python",
   "name": "python3"
  },
  "language_info": {
   "codemirror_mode": {
    "name": "ipython",
    "version": 3
   },
   "file_extension": ".py",
   "mimetype": "text/x-python",
   "name": "python",
   "nbconvert_exporter": "python",
   "pygments_lexer": "ipython3",
   "version": "3.8.8"
  }
 },
 "nbformat": 4,
 "nbformat_minor": 5
}
